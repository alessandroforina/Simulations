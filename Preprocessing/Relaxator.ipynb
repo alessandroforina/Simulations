{
 "cells": [
  {
   "cell_type": "code",
   "execution_count": 1,
   "metadata": {},
   "outputs": [
    {
     "ename": "ModuleNotFoundError",
     "evalue": "No module named 'metatensor.torch'",
     "output_type": "error",
     "traceback": [
      "\u001b[31m---------------------------------------------------------------------------\u001b[39m",
      "\u001b[31mModuleNotFoundError\u001b[39m                       Traceback (most recent call last)",
      "\u001b[36mCell\u001b[39m\u001b[36m \u001b[39m\u001b[32mIn[1]\u001b[39m\u001b[32m, line 10\u001b[39m\n\u001b[32m      8\u001b[39m \u001b[38;5;28;01mimport\u001b[39;00m\u001b[38;5;250m \u001b[39m\u001b[34;01mnumpy\u001b[39;00m\u001b[38;5;250m \u001b[39m\u001b[38;5;28;01mas\u001b[39;00m\u001b[38;5;250m \u001b[39m\u001b[34;01mnp\u001b[39;00m\n\u001b[32m      9\u001b[39m \u001b[38;5;28;01mfrom\u001b[39;00m\u001b[38;5;250m \u001b[39m\u001b[34;01mase\u001b[39;00m\u001b[34;01m.\u001b[39;00m\u001b[34;01mgeometry\u001b[39;00m\u001b[34;01m.\u001b[39;00m\u001b[34;01manalysis\u001b[39;00m\u001b[38;5;250m \u001b[39m\u001b[38;5;28;01mimport\u001b[39;00m Analysis\n\u001b[32m---> \u001b[39m\u001b[32m10\u001b[39m \u001b[38;5;28;01mfrom\u001b[39;00m\u001b[38;5;250m \u001b[39m\u001b[34;01mmetatensor\u001b[39;00m\u001b[34;01m.\u001b[39;00m\u001b[34;01mtorch\u001b[39;00m\u001b[34;01m.\u001b[39;00m\u001b[34;01matomistic\u001b[39;00m\u001b[34;01m.\u001b[39;00m\u001b[34;01mase_calculator\u001b[39;00m\u001b[38;5;250m \u001b[39m\u001b[38;5;28;01mimport\u001b[39;00m MetatensorCalculator\n",
      "\u001b[31mModuleNotFoundError\u001b[39m: No module named 'metatensor.torch'"
     ]
    }
   ],
   "source": [
    "import ase.md\n",
    "import ase.md.velocitydistribution\n",
    "import ase.units\n",
    "import ase.visualize.plot\n",
    "from ase.io import read, write\n",
    "from ase.optimize import BFGS\n",
    "import matplotlib.pyplot as plt\n",
    "import numpy as np\n",
    "from ase.geometry.analysis import Analysis\n",
    "from metatensor.torch.atomistic.ase_calculator import MetatensorCalculator"
   ]
  },
  {
   "cell_type": "code",
   "execution_count": 2,
   "metadata": {},
   "outputs": [],
   "source": [
    "atoms = read(\"/home/forina/Documents/MIT_Dataset/Preprocessing/OrthosilicaAcidRelaxed/Orthosilicic_Acid/starting_config.data\", format=\"lammps-data\")\n"
   ]
  },
  {
   "cell_type": "code",
   "execution_count": 4,
   "metadata": {},
   "outputs": [
    {
     "name": "stderr",
     "output_type": "stream",
     "text": [
      "[W519 08:32:20.339141091 model.cpp:906] Warning: Current torch version (2.7.0) is not compatible with the version (2.6.0+cu124) used to export the model at '/home/forina/Documents/MIT/Simulations/Models/BM_250/best_model.pt'; proceed at your own risk. (function check_atomistic_model)\n"
     ]
    }
   ],
   "source": [
    "atoms.calc = MetatensorCalculator(\"/home/forina/Documents/MIT/Simulations/Models/BM_250/best_model.pt\", extensions_directory=\"/home/forina/Documents/MIT/Simulations/Models/extensions\")\n",
    "opt = BFGS(atoms, logfile='pos_opt.log')"
   ]
  },
  {
   "cell_type": "code",
   "execution_count": 6,
   "metadata": {},
   "outputs": [
    {
     "name": "stdout",
     "output_type": "stream",
     "text": [
      "O170SiX336\n",
      "H336O170Si\n"
     ]
    }
   ],
   "source": [
    "print(atoms.get_chemical_formula())\n",
    "# 2) Replace all “X” symbols with “H”\n",
    "symbols = atoms.get_chemical_symbols()\n",
    "symbols = ['H' if s == 'X' else s for s in symbols]\n",
    "atoms.set_chemical_symbols(symbols)\n",
    "print(atoms.get_chemical_formula())"
   ]
  },
  {
   "cell_type": "code",
   "execution_count": 7,
   "metadata": {},
   "outputs": [
    {
     "ename": "",
     "evalue": "",
     "output_type": "error",
     "traceback": [
      "\u001b[1;31mThe Kernel crashed while executing code in the current cell or a previous cell. \n",
      "\u001b[1;31mPlease review the code in the cell(s) to identify a possible cause of the failure. \n",
      "\u001b[1;31mClick <a href='https://aka.ms/vscodeJupyterKernelCrash'>here</a> for more info. \n",
      "\u001b[1;31mView Jupyter <a href='command:jupyter.viewOutput'>log</a> for further details."
     ]
    }
   ],
   "source": [
    "opt.run(fmax=0.2)\n",
    "write('OrthosilicaAcidRelaxed/orthosilicacid_water_relaxed.data', atoms, format='lammps-data')"
   ]
  }
 ],
 "metadata": {
  "kernelspec": {
   "display_name": "asenv",
   "language": "python",
   "name": "python3"
  },
  "language_info": {
   "codemirror_mode": {
    "name": "ipython",
    "version": 3
   },
   "file_extension": ".py",
   "mimetype": "text/x-python",
   "name": "python",
   "nbconvert_exporter": "python",
   "pygments_lexer": "ipython3",
   "version": "3.12.3"
  }
 },
 "nbformat": 4,
 "nbformat_minor": 2
}
