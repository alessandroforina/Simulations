{
 "cells": [
  {
   "cell_type": "markdown",
   "metadata": {},
   "source": [
    "### 1) Importing all the necessary libraries"
   ]
  },
  {
   "cell_type": "code",
   "execution_count": null,
   "metadata": {},
   "outputs": [],
   "source": [
    "import ase \n",
    "from ase.io import read, write\n",
    "from ase.io import read, write\n",
    "from ase.calculators.emt import EMT               # replace with your preferred calculator\n",
    "from ase.optimize import BFGS\n",
    "import numpy as np"
   ]
  },
  {
   "cell_type": "markdown",
   "metadata": {},
   "source": [
    "### 2) Read data and rescale configuration box as needed"
   ]
  },
  {
   "cell_type": "code",
   "execution_count": null,
   "metadata": {},
   "outputs": [
    {
     "name": "stdout",
     "output_type": "stream",
     "text": [
      "0.9653266722483252 1.08 0.9632747657416558\n",
      "O109X218\n",
      "H218O109\n"
     ]
    }
   ],
   "source": [
    "# --- 1) Read & compress as before ---\n",
    "atoms = read('WaterBox.data', format='lammps-data')\n",
    "atoms.set_pbc(True)\n",
    "# (set cell manually if your .xyz lacks one)\n",
    "# atoms.set_cell([Lx, Ly, Lz])\n",
    "\n",
    "# compute current density\n",
    "mass_g     = atoms.get_masses().sum() * 1.660539e-24  \n",
    "vol_cm3    = atoms.get_volume()   * 1e-24          \n",
    "rho_current = mass_g / vol_cm3\n",
    "rho_target  = 1.08\n",
    "f = (rho_current / rho_target)**(1/3)\n",
    "\n",
    "print(rho_current, rho_target, f)\n",
    "\n",
    "# scale both cell & positions\n",
    "atoms.set_cell(atoms.get_cell() * f, scale_atoms=True)\n",
    "atoms.center()\n",
    "\n",
    "print(atoms.get_chemical_formula())\n",
    "\n",
    "# 2) Replace all “X” symbols with “H”\n",
    "symbols = atoms.get_chemical_symbols()\n",
    "symbols = ['H' if s == 'X' else s for s in symbols]\n",
    "atoms.set_chemical_symbols(symbols)\n",
    "print(atoms.get_chemical_formula())\n",
    "\n"
   ]
  },
  {
   "cell_type": "markdown",
   "metadata": {},
   "source": [
    "### 3) Import the PET-MAD environment to relax the structure"
   ]
  },
  {
   "cell_type": "code",
   "execution_count": 17,
   "metadata": {},
   "outputs": [
    {
     "data": {
      "text/plain": [
       "np.True_"
      ]
     },
     "execution_count": 17,
     "metadata": {},
     "output_type": "execute_result"
    }
   ],
   "source": [
    "from pet_mad.calculator import PETMADCalculator\n",
    "\n",
    "pet_mad_calculator = PETMADCalculator(version=\"latest\", device=\"cpu\")\n",
    "atoms.calc = pet_mad_calculator\n",
    "opt = BFGS(atoms, logfile='pos_opt.log')\n",
    "opt.run(fmax=0.2)"
   ]
  },
  {
   "cell_type": "markdown",
   "metadata": {},
   "source": [
    "### 4) Save the new relaxed starting configuration "
   ]
  },
  {
   "cell_type": "code",
   "execution_count": 18,
   "metadata": {},
   "outputs": [],
   "source": [
    "# 6) Write out the final relaxed structure\n",
    "write('water_relaxed.data', atoms, format='lammps-data')"
   ]
  }
 ],
 "metadata": {
  "kernelspec": {
   "display_name": "env",
   "language": "python",
   "name": "python3"
  },
  "language_info": {
   "codemirror_mode": {
    "name": "ipython",
    "version": 3
   },
   "file_extension": ".py",
   "mimetype": "text/x-python",
   "name": "python",
   "nbconvert_exporter": "python",
   "pygments_lexer": "ipython3",
   "version": "3.12.3"
  }
 },
 "nbformat": 4,
 "nbformat_minor": 2
}
